{
 "cells": [
  {
   "cell_type": "markdown",
   "id": "2c49f3e2",
   "metadata": {},
   "source": [
    "<DIV style=\"text-align: center\"> <h1>MS DATA SCIENCE</h2></DIV>\n",
    "\n",
    "## MAHAK MAHMOOD\n",
    "### Contact: 03324995890\n",
    "#### Email: mahamahmood9@gmail.com\n",
    "#### Address: Lahore Pakistan\n",
    "## OBJECTIVE:\n",
    ">Looking for a challenging role in a reputable organization to utilize my technical, and management skills for the growth of the organization as well as to enhance my knowledge about new and emerging trends in the data scince.\n",
    "## EDUCATION:\n",
    "#### MS Data Science.\n",
    ">Punjab Univerysity College of Information Technology Lahore.\\\n",
    "Major: Data Science\n",
    ">- October 2023 - Continue.\n",
    "#### MSs Computer Science.\n",
    ">Punjab Univerysity College of Information Technology Lahore.\\\n",
    "Major: Computer Science\n",
    ">- October 2015 - July 2017.\n",
    "#### BCS Computer Science\n",
    ">Punjab Univerysity College of Information Technology Lahore.\\\n",
    "Major: Computer Science, Statistics, G.Mathematics\n",
    ">- October 2013 - April 2015.\n",
    "## WORK EXPERIENCE:\n",
    "#### Assistant Data Management | Punjab Wildlife & Parks Department\n",
    ">- March 2020 - Present.\n",
    "#### Virtual Assistant | Amazon Shopping\n",
    ">- June 2019 - February 2020.\n",
    "#### Assistant Accounts Management Exuctive | CureMD Medical Billing Company\n",
    ">- March 2018 - June 2019.\n",
    "## SKILLS:\n",
    ">- MS Office Word, Excel, Power Point, Access.\n",
    ">- HTML, CSS\n",
    ">- Wordpress Installation, Configuration, Speed Optimization, Websote Migration, Theme Installation.\n",
    ">- WP Amazon Affiliated and E-Commerce Webste\n",
    ">- Basics of Programming C, C++, Python and Database\n",
    ">- Ability to learn and adept quickly to new technologies\n",
    ">- Data Entry\n",
    "## LANGUAGES:\n",
    ">- English (fluent)\n",
    ">- Urdu (fluent)\n",
    "## INTEREST:\n",
    ">- Reading, Outing, Internet Surfing and Cooking\n",
    "## AWARDS & CERTIFICATES:\n",
    ">- Web Development | E-Rozgaar Training Center\n",
    ">- English Language Course | Care Foundation\n",
    ">- MS Office | Oxford College\n",
    "## REFERENCE:\n",
    ">Will be furnished on demand."
   ]
  },
  {
   "cell_type": "code",
   "execution_count": null,
   "id": "0132e55c",
   "metadata": {},
   "outputs": [],
   "source": []
  }
 ],
 "metadata": {
  "kernelspec": {
   "display_name": "Python 3 (ipykernel)",
   "language": "python",
   "name": "python3"
  },
  "language_info": {
   "codemirror_mode": {
    "name": "ipython",
    "version": 3
   },
   "file_extension": ".py",
   "mimetype": "text/x-python",
   "name": "python",
   "nbconvert_exporter": "python",
   "pygments_lexer": "ipython3",
   "version": "3.11.5"
  }
 },
 "nbformat": 4,
 "nbformat_minor": 5
}
